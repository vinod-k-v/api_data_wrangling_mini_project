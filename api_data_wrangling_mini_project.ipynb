{
 "cells": [
  {
   "cell_type": "markdown",
   "metadata": {},
   "source": [
    "This exercise will require you to pull some data from the Qunadl API. Qaundl is currently the most widely used aggregator of financial market data."
   ]
  },
  {
   "cell_type": "markdown",
   "metadata": {},
   "source": [
    "As a first step, you will need to register a free account on the http://www.quandl.com website."
   ]
  },
  {
   "cell_type": "markdown",
   "metadata": {},
   "source": [
    "After you register, you will be provided with a unique API key, that you should store:"
   ]
  },
  {
   "cell_type": "code",
   "execution_count": 1,
   "metadata": {},
   "outputs": [],
   "source": [
    "# Store the API key as a string - according to PEP8, constants are always named in all upper case\n",
    "API_KEY = 'SUqevdpP8msXxaH2yqv9'"
   ]
  },
  {
   "cell_type": "markdown",
   "metadata": {},
   "source": [
    "Qaundl has a large number of data sources, but, unfortunately, most of them require a Premium subscription. Still, there are also a good number of free datasets."
   ]
  },
  {
   "cell_type": "markdown",
   "metadata": {},
   "source": [
    "For this mini project, we will focus on equities data from the Frankfurt Stock Exhange (FSE), which is available for free. We'll try and analyze the stock prices of a company called Carl Zeiss Meditec, which manufactures tools for eye examinations, as well as medical lasers for laser eye surgery: https://www.zeiss.com/meditec/int/home.html. The company is listed under the stock ticker AFX_X."
   ]
  },
  {
   "cell_type": "markdown",
   "metadata": {},
   "source": [
    "You can find the detailed Quandl API instructions here: https://docs.quandl.com/docs/time-series"
   ]
  },
  {
   "cell_type": "markdown",
   "metadata": {},
   "source": [
    "While there is a dedicated Python package for connecting to the Quandl API, we would prefer that you use the *requests* package, which can be easily downloaded using *pip* or *conda*. You can find the documentation for the package here: http://docs.python-requests.org/en/master/ "
   ]
  },
  {
   "cell_type": "markdown",
   "metadata": {},
   "source": [
    "Finally, apart from the *requests* package, you are encouraged to not use any third party Python packages, such as *pandas*, and instead focus on what's available in the Python Standard Library (the *collections* module might come in handy: https://pymotw.com/3/collections/ ).\n",
    "Also, since you won't have access to DataFrames, you are encouraged to us Python's native data structures - preferably dictionaries, though some questions can also be answered using lists.\n",
    "You can read more on these data structures here: https://docs.python.org/3/tutorial/datastructures.html"
   ]
  },
  {
   "cell_type": "markdown",
   "metadata": {},
   "source": [
    "Keep in mind that the JSON responses you will be getting from the API map almost one-to-one to Python's dictionaries. Unfortunately, they can be very nested, so make sure you read up on indexing dictionaries in the documentation provided above."
   ]
  },
  {
   "cell_type": "code",
   "execution_count": 2,
   "metadata": {},
   "outputs": [],
   "source": [
    "# First, import the relevant modules\n",
    "import requests"
   ]
  },
  {
   "cell_type": "code",
   "execution_count": 3,
   "metadata": {},
   "outputs": [],
   "source": [
    "# Now, call the Quandl API and pull out a small sample of the data (only one day) to get a glimpse\n",
    "# into the JSON structure that will be returned\n",
    "url = 'https://www.quandl.com/api/v3/datasets/FSE/AFX_X.json?&start_date=2020-12-01&end_date=2020-12-01&api_key=' + API_KEY\n",
    "r = requests.get(url)\n",
    "r_json = r.json()"
   ]
  },
  {
   "cell_type": "code",
   "execution_count": 4,
   "metadata": {},
   "outputs": [
    {
     "data": {
      "text/plain": [
       "{'dataset': {'id': 10095370,\n",
       "  'dataset_code': 'AFX_X',\n",
       "  'database_code': 'FSE',\n",
       "  'name': 'Carl Zeiss Meditec (AFX_X)',\n",
       "  'description': 'Stock Prices for Carl Zeiss Meditec (2020-11-02) from the Frankfurt Stock Exchange.<br><br>Trading System: Xetra<br><br>ISIN: DE0005313704',\n",
       "  'refreshed_at': '2020-12-01T14:48:09.907Z',\n",
       "  'newest_available_date': '2020-12-01',\n",
       "  'oldest_available_date': '2000-06-07',\n",
       "  'column_names': ['Date',\n",
       "   'Open',\n",
       "   'High',\n",
       "   'Low',\n",
       "   'Close',\n",
       "   'Change',\n",
       "   'Traded Volume',\n",
       "   'Turnover',\n",
       "   'Last Price of the Day',\n",
       "   'Daily Traded Units',\n",
       "   'Daily Turnover'],\n",
       "  'frequency': 'daily',\n",
       "  'type': 'Time Series',\n",
       "  'premium': False,\n",
       "  'limit': None,\n",
       "  'transform': None,\n",
       "  'column_index': None,\n",
       "  'start_date': '2020-12-01',\n",
       "  'end_date': '2020-12-01',\n",
       "  'data': [['2020-12-01',\n",
       "    112.2,\n",
       "    112.2,\n",
       "    111.5,\n",
       "    112.0,\n",
       "    None,\n",
       "    51.0,\n",
       "    5703.0,\n",
       "    None,\n",
       "    None,\n",
       "    None]],\n",
       "  'collapse': None,\n",
       "  'order': None,\n",
       "  'database_id': 6129}}"
      ]
     },
     "execution_count": 4,
     "metadata": {},
     "output_type": "execute_result"
    }
   ],
   "source": [
    "# Inspect the JSON structure of the object you created, and take note of how nested it is,\n",
    "# as well as the overall structure\n",
    "r_json"
   ]
  },
  {
   "cell_type": "markdown",
   "metadata": {},
   "source": [
    "These are your tasks for this mini project:\n",
    "\n",
    "1. Collect data from the Franfurt Stock Exchange, for the ticker AFX_X, for the whole year 2017 (keep in mind that the date format is YYYY-MM-DD).\n",
    "2. Convert the returned JSON object into a Python dictionary.\n",
    "3. Calculate what the highest and lowest opening prices were for the stock in this period.\n",
    "4. What was the largest change in any one day (based on High and Low price)?\n",
    "5. What was the largest change between any two days (based on Closing Price)?\n",
    "6. What was the average daily trading volume during this year?\n",
    "7. (Optional) What was the median trading volume during this year. (Note: you may need to implement your own function for calculating the median.)"
   ]
  },
  {
   "cell_type": "markdown",
   "metadata": {
    "collapsed": true
   },
   "source": [
    "**Q 1.** Collect data from the Franfurt Stock Exchange, for the ticker AFX_X, for the whole year 2017 (keep in mind that the date format is YYYY-MM-DD).\n",
    "\n",
    "**Q 2.** Convert the returned JSON object into a Python dictionary."
   ]
  },
  {
   "cell_type": "code",
   "execution_count": 5,
   "metadata": {},
   "outputs": [
    {
     "name": "stdout",
     "output_type": "stream",
     "text": [
      "dict_keys(['dataset'])\n"
     ]
    }
   ],
   "source": [
    "url = 'https://www.quandl.com/api/v3/datasets/FSE/AFX_X.json?&start_date=2017-01-01&end_date=2017-12-31&api_key=' + API_KEY\n",
    "r = requests.get(url)\n",
    "r_json = r.json()\n",
    "print(r_json.keys())"
   ]
  },
  {
   "cell_type": "code",
   "execution_count": 6,
   "metadata": {},
   "outputs": [
    {
     "name": "stdout",
     "output_type": "stream",
     "text": [
      "dict_keys(['id', 'dataset_code', 'database_code', 'name', 'description', 'refreshed_at', 'newest_available_date', 'oldest_available_date', 'column_names', 'frequency', 'type', 'premium', 'limit', 'transform', 'column_index', 'start_date', 'end_date', 'data', 'collapse', 'order', 'database_id'])\n"
     ]
    }
   ],
   "source": [
    "#dataset is the primary key\n",
    "print(r_json['dataset'].keys())"
   ]
  },
  {
   "cell_type": "markdown",
   "metadata": {},
   "source": [
    "**Q 3.** Calculate what the highest and lowest opening prices were for the stock in this period."
   ]
  },
  {
   "cell_type": "code",
   "execution_count": 7,
   "metadata": {},
   "outputs": [
    {
     "name": "stdout",
     "output_type": "stream",
     "text": [
      "['Date', 'Open', 'High', 'Low', 'Close', 'Change', 'Traded Volume', 'Turnover', 'Last Price of the Day', 'Daily Traded Units', 'Daily Turnover']\n"
     ]
    }
   ],
   "source": [
    "#look at the data and column names of the primary dataset key\n",
    "\n",
    "data = r_json['dataset']['data']\n",
    "print(r_json['dataset']['column_names'])"
   ]
  },
  {
   "cell_type": "code",
   "execution_count": 8,
   "metadata": {},
   "outputs": [
    {
     "name": "stdout",
     "output_type": "stream",
     "text": [
      "[51.76, 51.65, 51.45, 51.05, 51.16, 51.88, 52.73, 52.37, 52.7, 53.11, 52.64, 52.29, 52.28, 51.5, 50.89, 50.8, 51.21, 49.5, 49.52, 48.64, 49.64, 49.09, 49.13, 49.11, 48.8, 48.4, 47.25, 46.57, 47.03, 47.09, 47.98, 48.4, 48.38, 47.3, 47.65, 46.42, 46.16, 45.81, 45.0, 45.88, 46.29, 46.53, 45.48, 45.2, 45.01, 45.16, 44.9, 45.08, 45.72, 46.01, 45.8, 45.61, 45.5, 45.58, 45.97, 45.64, 46.2, 46.19, 46.01, 45.36, 44.51, 43.58, 42.0, 42.35, 42.3, 42.3, 41.48, 42.29, 42.54, 42.65, 42.5, 42.29, 42.35, 42.49, 43.21, 42.81, 42.7, 43.0, 42.66, 43.0, 42.38, 42.16, 42.0, 42.0, 41.71, 42.11, 42.64, 42.72, 42.82, 42.46, 42.42, 42.28, 41.88, 42.4, 42.53, 42.12, 41.3, 41.73, 43.5, 44.9, 45.85, 45.13, 45.34, 45.25, 45.24, 44.94, 45.26, 45.16, 44.91, 44.7, 45.31, 45.57, 45.74, 45.06, 45.5, 45.6, 45.07, 44.67, 44.29, 44.94, 44.64, 44.79, 45.5, 44.67, 45.83, 45.29, 45.01, 45.73, 46.68, 47.23, 46.95, 47.29, 47.03, 47.46, 46.48, 46.9, 45.66, 46.34, 46.52, 46.5, 47.31, 46.77, 47.8, 47.01, 47.12, 46.8, 46.12, 45.22, 45.05, 45.61, 44.8, 44.8, 43.92, 43.67, 44.16, 43.74, 44.0, 45.06, 45.15, 45.09, 45.18, 43.4, 43.5, 41.83, 43.0, 42.52, 41.86, 42.2, 41.89, None, 42.17, 41.51, 41.88, 41.93, 42.01, 41.97, 42.5, 41.94, 42.24, None, None, 42.06, 42.02, 41.62, 41.46, 40.9, 40.96, 41.1, 39.5, 40.15, 39.77, 40.02, 39.39, 38.95, 38.73, 38.94, 39.01, 38.25, 41.8, 41.26, 41.47, 41.4, 41.4, 41.2, 41.4, 41.53, 41.61, 41.13, 41.5, 41.25, 41.12, 41.38, 41.19, 40.38, 39.75, 39.77, 39.72, 39.6, 38.85, 39.25, 38.8, 38.8, 38.5, 38.81, 37.37, 36.65, 36.2, 35.98, 35.56, 36.06, 36.02, 35.95, 34.75, 35.24, 35.38, 34.83, 35.07, 34.42, 34.0, 34.04, 34.54, 35.04, 35.04, 35.06, 34.85, 34.98, 35.38, 34.95, 34.8, 35.29, 34.91, 35.02, 35.48, 35.9, 34.99]\n"
     ]
    }
   ],
   "source": [
    "#since data is a list of list, we need to look at the second column for the open price of each day\n",
    "#hence to get the open prices we use a for loop on data to access each day and index=1 for the open price on each day \n",
    "Open = [] #empty list\n",
    "for day in data: \n",
    "    Open.append(day[1])\n",
    "print(Open)"
   ]
  },
  {
   "cell_type": "code",
   "execution_count": 9,
   "metadata": {},
   "outputs": [
    {
     "name": "stdout",
     "output_type": "stream",
     "text": [
      "[51.76, 51.65, 51.45, 51.05, 51.16, 51.88, 52.73, 52.37, 52.7, 53.11, 52.64, 52.29, 52.28, 51.5, 50.89, 50.8, 51.21, 49.5, 49.52, 48.64, 49.64, 49.09, 49.13, 49.11, 48.8, 48.4, 47.25, 46.57, 47.03, 47.09, 47.98, 48.4, 48.38, 47.3, 47.65, 46.42, 46.16, 45.81, 45.0, 45.88, 46.29, 46.53, 45.48, 45.2, 45.01, 45.16, 44.9, 45.08, 45.72, 46.01, 45.8, 45.61, 45.5, 45.58, 45.97, 45.64, 46.2, 46.19, 46.01, 45.36, 44.51, 43.58, 42.0, 42.35, 42.3, 42.3, 41.48, 42.29, 42.54, 42.65, 42.5, 42.29, 42.35, 42.49, 43.21, 42.81, 42.7, 43.0, 42.66, 43.0, 42.38, 42.16, 42.0, 42.0, 41.71, 42.11, 42.64, 42.72, 42.82, 42.46, 42.42, 42.28, 41.88, 42.4, 42.53, 42.12, 41.3, 41.73, 43.5, 44.9, 45.85, 45.13, 45.34, 45.25, 45.24, 44.94, 45.26, 45.16, 44.91, 44.7, 45.31, 45.57, 45.74, 45.06, 45.5, 45.6, 45.07, 44.67, 44.29, 44.94, 44.64, 44.79, 45.5, 44.67, 45.83, 45.29, 45.01, 45.73, 46.68, 47.23, 46.95, 47.29, 47.03, 47.46, 46.48, 46.9, 45.66, 46.34, 46.52, 46.5, 47.31, 46.77, 47.8, 47.01, 47.12, 46.8, 46.12, 45.22, 45.05, 45.61, 44.8, 44.8, 43.92, 43.67, 44.16, 43.74, 44.0, 45.06, 45.15, 45.09, 45.18, 43.4, 43.5, 41.83, 43.0, 42.52, 41.86, 42.2, 41.89, 42.17, 41.51, 41.88, 41.93, 42.01, 41.97, 42.5, 41.94, 42.24, 42.06, 42.02, 41.62, 41.46, 40.9, 40.96, 41.1, 39.5, 40.15, 39.77, 40.02, 39.39, 38.95, 38.73, 38.94, 39.01, 38.25, 41.8, 41.26, 41.47, 41.4, 41.4, 41.2, 41.4, 41.53, 41.61, 41.13, 41.5, 41.25, 41.12, 41.38, 41.19, 40.38, 39.75, 39.77, 39.72, 39.6, 38.85, 39.25, 38.8, 38.8, 38.5, 38.81, 37.37, 36.65, 36.2, 35.98, 35.56, 36.06, 36.02, 35.95, 34.75, 35.24, 35.38, 34.83, 35.07, 34.42, 34.0, 34.04, 34.54, 35.04, 35.04, 35.06, 34.85, 34.98, 35.38, 34.95, 34.8, 35.29, 34.91, 35.02, 35.48, 35.9, 34.99]\n"
     ]
    }
   ],
   "source": [
    "#there are None values in the list, we will just drop them for now\n",
    "Open = [price for price in Open if price != None]\n",
    "print(Open)"
   ]
  },
  {
   "cell_type": "code",
   "execution_count": 10,
   "metadata": {},
   "outputs": [
    {
     "name": "stdout",
     "output_type": "stream",
     "text": [
      "34.0\n",
      "53.11\n"
     ]
    }
   ],
   "source": [
    "#calculate the min and max prices for this list\n",
    "print(min(Open))\n",
    "print(max(Open))"
   ]
  },
  {
   "cell_type": "markdown",
   "metadata": {},
   "source": [
    "**A 3.** highest opening price is 53.11 and lowest opening price is 34.0"
   ]
  },
  {
   "cell_type": "markdown",
   "metadata": {},
   "source": [
    "**Q 4.** What was the largest change in any one day (based on High and Low price)?"
   ]
  },
  {
   "cell_type": "code",
   "execution_count": 11,
   "metadata": {},
   "outputs": [
    {
     "name": "stdout",
     "output_type": "stream",
     "text": [
      "[0.4899999999999949, 0.39000000000000057, 1.1300000000000026, 0.5799999999999983, 0.6200000000000045, 0.8399999999999963, 1.6599999999999966, 1.1400000000000006, 1.0600000000000023, 1.3900000000000006, 0.8700000000000045, 1.2800000000000011, 1.1900000000000048, 1.5499999999999972, 0.6599999999999966, 0.7199999999999989, 0.980000000000004, 1.7299999999999969, 1.3200000000000003, 1.5600000000000023, 0.9399999999999977, 0.8599999999999994, 0.769999999999996, 0.5399999999999991, 1.009999999999998, 1.2199999999999989, 1.8100000000000023, 0.8400000000000034, 0.3500000000000014, 0.6799999999999997, 1.259999999999998, 1.0599999999999952, 0.8500000000000014, 1.730000000000004, 0.9699999999999989, 1.2999999999999972, 0.4899999999999949, 0.3300000000000054, 1.2100000000000009, 0.8800000000000026, 0.5799999999999983, 1.0399999999999991, 0.9600000000000009, 0.5, 0.35999999999999943, 0.5200000000000031, 0.45000000000000284, 0.5800000000000054, 1.0600000000000023, 0.5900000000000034, 0.6900000000000048, 0.45000000000000284, 0.3300000000000054, 0.4099999999999966, 0.7199999999999989, 0.46999999999999886, 0.6000000000000014, 0.5, 0.46000000000000085, 0.9500000000000028, 0.7999999999999972, 0.8700000000000045, 1.5600000000000023, 0.7100000000000009, 0.46000000000000085, 0.3399999999999963, 0.9000000000000057, 0.8999999999999986, 0.5499999999999972, 0.519999999999996, 0.4000000000000057, 0.5600000000000023, 0.44999999999999574, 0.46999999999999886, 0.720000000000006, 0.3299999999999983, 0.18999999999999773, 0.3500000000000014, 0.36999999999999744, 0.6400000000000006, 0.7999999999999972, 0.990000000000002, 0.9600000000000009, 0.7100000000000009, 0.6499999999999986, 0.39000000000000057, 0.5900000000000034, 0.4199999999999946, 0.5700000000000003, 0.5600000000000023, 0.5599999999999952, 0.5900000000000034, 1.25, 0.6400000000000006, 0.3299999999999983, 0.6799999999999997, 0.9799999999999969, 0.8500000000000014, 1.8599999999999994, 0.9400000000000048, 2.3200000000000003, 0.7700000000000031, 0.6300000000000026, 0.8700000000000045, 0.4399999999999977, 0.8100000000000023, 0.5399999999999991, 0.30000000000000426, 0.8699999999999974, 0.4099999999999966, 0.8200000000000003, 0.8400000000000034, 0.730000000000004, 0.7800000000000011, 0.8499999999999943, 0.9399999999999977, 0.730000000000004, 0.509999999999998, 1.1599999999999966, 0.8599999999999994, 0.6700000000000017, 0.5399999999999991, 1.3500000000000014, 0.9200000000000017, 1.0899999999999963, 0.769999999999996, 0.740000000000002, 0.7000000000000028, 1.2700000000000031, 0.9399999999999977, 0.720000000000006, 0.6099999999999994, 0.6499999999999986, 0.9499999999999957, 1.1599999999999966, 0.6499999999999986, 1.1400000000000006, 1.1300000000000026, 0.8100000000000023, 0.4799999999999969, 1.5399999999999991, 0.8900000000000006, 1.529999999999994, 0.4200000000000017, 1.240000000000002, 0.2700000000000031, 0.6300000000000026, 1.0399999999999991, 0.970000000000006, 0.36999999999999744, 0.6499999999999986, 0.5799999999999983, 0.75, 0.5800000000000054, 0.7800000000000011, 0.37999999999999545, 1.009999999999998, 1.3300000000000054, 0.7999999999999972, 1.4699999999999989, 1.0200000000000031, 2.8100000000000023, 1.0700000000000003, 1.7299999999999969, 0.9600000000000009, 0.529999999999994, 0.7899999999999991, 0.509999999999998, 0.46999999999999886, 0.5899999999999963, 0.5900000000000034, 0.730000000000004, 0.5399999999999991, 0.5200000000000031, 0.7900000000000063, 1.1300000000000026, 1.1199999999999974, 0.6700000000000017, 0.8599999999999994, 0.49499999999999744, 0.49499999999999744, 0.4899999999999949, 0.6099999999999994, 0.5, 0.36999999999999744, 0.5799999999999983, 0.4200000000000017, 0.5500000000000043, 1.4000000000000057, 0.6099999999999994, 0.6499999999999986, 0.7199999999999989, 0.9600000000000009, 0.5600000000000023, 0.5700000000000003, 0.4200000000000017, 0.6199999999999974, 1.490000000000002, 0.8599999999999994, 0.9100000000000037, 0.4300000000000068, 0.4799999999999969, 0.5900000000000034, 0.29999999999999716, 0.38000000000000256, 0.37000000000000455, 0.45000000000000284, 0.759999999999998, 0.5499999999999972, 0.5899999999999963, 0.37999999999999545, 0.6300000000000026, 0.6700000000000017, 0.5700000000000003, 0.8900000000000006, 1.230000000000004, 0.5999999999999943, 0.4799999999999969, 0.7199999999999989, 0.4399999999999977, 0.5500000000000043, 0.9500000000000028, 0.5300000000000011, 0.8599999999999994, 2.009999999999998, 0.9299999999999997, 0.4799999999999969, 0.29999999999999716, 0.6899999999999977, 0.5499999999999972, 0.47000000000000597, 0.5, 1.25, 0.6799999999999997, 0.6400000000000006, 0.6199999999999974, 0.7800000000000011, 0.8299999999999983, 0.5, 0.5, 0.5400000000000063, 0.6199999999999974, 0.7100000000000009, 0.3999999999999986, 0.6799999999999997, 0.37999999999999545, 1.0700000000000003, 1.1599999999999966, 0.519999999999996, 0.9200000000000017, 0.30000000000000426, 0.47000000000000597, 0.759999999999998, 0.5899999999999963, 0.9499999999999957]\n"
     ]
    }
   ],
   "source": [
    "#load the high and low prices of each day, take the absolute difference and get the maximum value \n",
    "Diff = []\n",
    "for day in data:\n",
    "    Diff.append(abs(day[3]-day[2]))\n",
    "print(Diff)"
   ]
  },
  {
   "cell_type": "code",
   "execution_count": 12,
   "metadata": {},
   "outputs": [
    {
     "name": "stdout",
     "output_type": "stream",
     "text": [
      "2.8100000000000023\n"
     ]
    }
   ],
   "source": [
    "#calculate the maximum value\n",
    "print(max(Diff))"
   ]
  },
  {
   "cell_type": "markdown",
   "metadata": {},
   "source": [
    "**A 4.** largest change in any one day is 2.81"
   ]
  },
  {
   "cell_type": "markdown",
   "metadata": {},
   "source": [
    "**Q 5.** What was the largest change between any two days (based on Closing Price)?"
   ]
  },
  {
   "cell_type": "code",
   "execution_count": 13,
   "metadata": {},
   "outputs": [
    {
     "name": "stdout",
     "output_type": "stream",
     "text": [
      "[-0.1599999999999966, 0.21999999999999886, -0.5, 0.0799999999999983, -0.12999999999999545, 0.38999999999999346, 0.9600000000000009, -0.6099999999999994, 0.6600000000000037, 0.4200000000000017, -0.6600000000000037, -0.28999999999999915, -0.020000000000003126, -0.6499999999999986, -0.5799999999999983, 0.35999999999999943, -0.10999999999999943, -1.2800000000000011, -0.1599999999999966, -0.9500000000000028, 0.5, -0.04999999999999716, -0.09000000000000341, 0.09000000000000341, -0.4000000000000057, -0.4099999999999966, -1.3500000000000014, -0.19999999999999574, 0.18999999999999773, 0.01999999999999602, 0.9500000000000028, 0.3400000000000034, 0.0, -1.1300000000000026, 0.259999999999998, -1.2100000000000009, -0.269999999999996, -0.020000000000003126, -0.6999999999999957, 0.769999999999996, -0.28000000000000114, 0.6499999999999986, -1.0, -0.4099999999999966, -0.14999999999999858, 0.14999999999999858, -0.13000000000000256, 0.13000000000000256, 0.7700000000000031, 0.18999999999999773, -0.4100000000000037, -0.14999999999999858, 0.030000000000001137, -0.14000000000000057, 0.5500000000000043, -0.10000000000000142, 0.259999999999998, 0.04999999999999716, 0.060000000000002274, -1.1300000000000026, -0.8099999999999952, -0.6099999999999994, -1.5200000000000031, 0.3299999999999983, -0.29999999999999716, -0.00999999999999801, -0.6000000000000014, 0.5300000000000011, 0.44999999999999574, -0.1699999999999946, 0.14999999999999858, 0.10000000000000142, -0.07000000000000028, 0.27999999999999403, 0.12000000000000455, -0.17999999999999972, 0.10000000000000142, -0.22000000000000597, 0.07000000000000028, -0.01999999999999602, -0.19000000000000483, -0.509999999999998, 0.03999999999999915, -0.0899999999999963, 0.05999999999999517, 0.23000000000000398, 0.5499999999999972, 0.020000000000003126, 0.0, -0.45000000000000284, 0.14999999999999858, 0.09000000000000341, -0.45000000000000284, 0.23000000000000398, 0.01999999999999602, -0.35999999999999943, -0.259999999999998, 0.13000000000000256, 2.559999999999995, 0.5900000000000034, 0.10999999999999943, -0.10000000000000142, 0.5900000000000034, -0.10999999999999943, -0.15000000000000568, -0.3299999999999983, 0.28000000000000114, -0.09000000000000341, -0.3399999999999963, -0.21000000000000085, 0.8299999999999983, 0.21999999999999886, -0.0899999999999963, -0.5700000000000003, 0.6000000000000014, -0.07000000000000028, -0.5799999999999983, 0.0, -0.75, 0.5, -0.1700000000000017, 0.0899999999999963, 0.5700000000000003, -0.39000000000000057, 0.9500000000000028, -0.3100000000000023, -0.23999999999999488, 0.4799999999999969, 1.1499999999999986, 0.38000000000000256, -0.21999999999999886, 0.29999999999999716, -0.29999999999999716, 0.37999999999999545, -0.7299999999999969, -0.00999999999999801, -0.9600000000000009, 0.6599999999999966, -0.00999999999999801, -0.00999999999999801, 1.1299999999999955, -1.1699999999999946, 1.1599999999999966, 0.0, -0.4399999999999977, -0.46999999999999886, -0.6600000000000037, 0.1600000000000037, -0.7000000000000028, -0.020000000000003126, -0.519999999999996, -0.25, -0.6300000000000026, -0.05999999999999517, 0.27999999999999403, -0.14000000000000057, 0.21000000000000085, 1.1200000000000045, -0.1700000000000017, -0.14999999999999858, 0.00999999999999801, -1.7199999999999989, 0.01999999999999602, -1.0599999999999952, 0.509999999999998, -0.25, -0.6000000000000014, 0.25, -0.4299999999999997, 0.0, 0.4399999999999977, -0.6599999999999966, 0.39000000000000057, -0.0799999999999983, -0.490000000000002, 0.6099999999999994, 0.6799999999999997, -0.6099999999999994, 0.20000000000000284, 0.0, 0.0, 0.0, -0.45000000000000284, -0.07000000000000028, -0.259999999999998, -0.37000000000000455, 0.05000000000000426, -0.28999999999999915, -1.1700000000000017, 0.3399999999999963, -0.22999999999999687, 0.259999999999998, -0.7899999999999991, -0.36999999999999744, 0.0899999999999963, 0.020000000000003126, -0.020000000000003126, 2.039999999999999, 0.990000000000002, -0.6299999999999955, 0.11999999999999744, -0.21000000000000085, 0.04999999999999716, 0.0, 0.10000000000000142, 0.0, 0.28000000000000114, -0.259999999999998, -0.020000000000003126, -0.21999999999999886, -0.00999999999999801, 0.030000000000001137, -0.35999999999999943, -0.45000000000000284, -0.6499999999999986, 0.04999999999999716, -0.0899999999999963, -0.25, -0.47000000000000597, 0.04000000000000625, -0.3100000000000023, 0.00999999999999801, -0.3500000000000014, 0.1600000000000037, -1.4699999999999989, -0.8100000000000023, -0.20000000000000284, -0.1599999999999966, -0.25, 0.46000000000000085, -0.030000000000001137, -0.13000000000000256, -1.3799999999999955, 0.5899999999999963, 0.14999999999999858, -0.4099999999999966, -0.060000000000002274, -0.6099999999999994, -0.1599999999999966, 0.10999999999999943, 0.3299999999999983, 0.3999999999999986, 0.09000000000000341, 0.0799999999999983, -0.21999999999999886, 0.04999999999999716, 0.5200000000000031, -0.5100000000000051, -0.23999999999999488, 0.36999999999999744, 0.020000000000003126, 0.12999999999999545, 0.28999999999999915, 0.3200000000000003]\n"
     ]
    }
   ],
   "source": [
    "#logic: we need to first get closing price (index 4) and get the difference of current closing price \n",
    "#with previous day's closing price and find the largest\n",
    "#this can be done using a for loop\n",
    "\n",
    "Change = []\n",
    "for day_index in range(len(data)-1):\n",
    "    Change.append(data[day_index+1][4] - data[day_index][4])\n",
    "print(Change)    "
   ]
  },
  {
   "cell_type": "code",
   "execution_count": 14,
   "metadata": {},
   "outputs": [
    {
     "name": "stdout",
     "output_type": "stream",
     "text": [
      "2.559999999999995\n"
     ]
    }
   ],
   "source": [
    "#calculate the maximum value\n",
    "print(max(Change))"
   ]
  },
  {
   "cell_type": "markdown",
   "metadata": {},
   "source": [
    "**A 5.** largest change between any two days (based on closing price) is 2.56 "
   ]
  },
  {
   "cell_type": "markdown",
   "metadata": {},
   "source": [
    "**Q 6.** What was the average daily trading volume during this year?"
   ]
  },
  {
   "cell_type": "code",
   "execution_count": 15,
   "metadata": {},
   "outputs": [
    {
     "name": "stdout",
     "output_type": "stream",
     "text": [
      "[34640.0, 40660.0, 57452.0, 71165.0, 120649.0, 50587.0, 137313.0, 129733.0, 204080.0, 132981.0, 128434.0, 87911.0, 71817.0, 109157.0, 48123.0, 88730.0, 83023.0, 94385.0, 101733.0, 123019.0, 67342.0, 42669.0, 102180.0, 50350.0, 38834.0, 91142.0, 78502.0, 97252.0, 54107.0, 89373.0, 67593.0, 67672.0, 76286.0, 90245.0, 120268.0, 94195.0, 48152.0, 60716.0, 56911.0, 37958.0, 56319.0, 56245.0, 74472.0, 56319.0, 47730.0, 43042.0, 43375.0, 55707.0, 59991.0, 45263.0, 65837.0, 49246.0, 43362.0, 49180.0, 69455.0, 65860.0, 44059.0, 66760.0, 94804.0, 115706.0, 95313.0, 99821.0, 157234.0, 76600.0, 51321.0, 56224.0, 79955.0, 105194.0, 57838.0, 65546.0, 44037.0, 107144.0, 65157.0, 68801.0, 52828.0, 103273.0, 59881.0, 64320.0, 71006.0, 66351.0, 105288.0, 151474.0, 157888.0, 97804.0, 98156.0, 47130.0, 69734.0, 65213.0, 70269.0, 95376.0, 68812.0, 72886.0, 131361.0, 104676.0, 64334.0, 127682.0, 183412.0, 175161.0, 355857.0, 156168.0, 164543.0, 96202.0, 77854.0, 187468.0, 74975.0, 62672.0, 114006.0, 50557.0, 81970.0, 112224.0, 104282.0, 73422.0, 87399.0, 71971.0, 104003.0, 104995.0, 67375.0, 82745.0, 115705.0, 90538.0, 71868.0, 47999.0, 66116.0, 48706.0, 50549.0, 71381.0, 136112.0, 134965.0, 117165.0, 82492.0, 73322.0, 80586.0, 56071.0, 89752.0, 108334.0, 70056.0, 202214.0, 101733.0, 83741.0, 107644.0, 112942.0, 99674.0, 1945.0, 1081.0, 686.0, 290.0, 106513.0, 522.0, 587.0, 112.0, 74453.0, 49970.0, 111923.0, 38308.0, 70856.0, 45.0, 166160.0, 149515.0, 101476.0, 193702.0, 159495.0, 189125.0, 91858.0, 151439.0, 97456.0, 78512.0, 82058.0, 65266.0, 86559.0, 86348.0, 86348.0, 151683.0, 65847.0, 85973.0, 102084.0, 186784.0, 223621.0, 92722.0, 133057.0, 88416.0, 88416.0, 88416.0, 158278.0, 107817.0, 62297.0, 81255.0, 96794.0, 156005.0, 193156.0, 127973.0, 95382.0, 189201.0, 335406.0, 115075.0, 191515.0, 210926.0, 169971.0, 670349.0, 56906.0, 97572.0, 90109.0, 55799.0, 60324.0, 60420.0, 44803.0, 38518.0, 43988.0, 45111.0, 61925.0, 46510.0, 40800.0, 49863.0, 86753.0, 67440.0, 62655.0, 101294.0, 81945.0, 77619.0, 46070.0, 37014.0, 60583.0, 84682.0, 77420.0, 82601.0, 177171.0, 115843.0, 67781.0, 39731.0, 67410.0, 41911.0, 40705.0, 54279.0, 85137.0, 63371.0, 69603.0, 69657.0, 64103.0, 56240.0, 48797.0, 55333.0, 80246.0, 73105.0, 65931.0, 39195.0, 47879.0, 59367.0, 163860.0, 123530.0, 43976.0, 62225.0, 27507.0, 48412.0, 54408.0, 70618.0, 44700.0]\n"
     ]
    }
   ],
   "source": [
    "#logic: take the mean of the daily trading volume (index 6)\n",
    "daily_trading = []\n",
    "for day in data:\n",
    "    daily_trading.append(day[6])\n",
    "print(daily_trading)"
   ]
  },
  {
   "cell_type": "code",
   "execution_count": 16,
   "metadata": {},
   "outputs": [
    {
     "name": "stdout",
     "output_type": "stream",
     "text": [
      "89124.33725490196\n"
     ]
    }
   ],
   "source": [
    "#no None values, so directly take the mean\n",
    "avg_daily_trading = sum(daily_trading)/len(daily_trading)\n",
    "print(avg_daily_trading)"
   ]
  },
  {
   "cell_type": "markdown",
   "metadata": {},
   "source": [
    "**A 6.** average daily trading volume is 89124.34"
   ]
  },
  {
   "cell_type": "markdown",
   "metadata": {},
   "source": [
    "**Q 7.** (Optional) What was the median trading volume during this year. \n",
    "(Note: you may need to implement your own function for calculating the median.)"
   ]
  },
  {
   "cell_type": "code",
   "execution_count": 17,
   "metadata": {},
   "outputs": [
    {
     "name": "stdout",
     "output_type": "stream",
     "text": [
      "76286.0\n"
     ]
    }
   ],
   "source": [
    "#logic: sort the data of trading volume and get the (average of) mid element(s)\n",
    "\n",
    "#define own function which takes a non-sorted list as argument and return median\n",
    "def get_median(non_sorted_list):\n",
    "    sorted_list = sorted(non_sorted_list)\n",
    "    #if number of elements is even, median is average of the center elements\n",
    "    #if number of elements is odd, median is the center element\n",
    "    if len(sorted_list)%2==0:\n",
    "        mid1 = len(sorted_list)/2\n",
    "        mid2 = mid1 + 1   \n",
    "        return ((sorted_list[mid1] + sorted_list[mid2])/2)\n",
    "    else:\n",
    "        return sorted_list[len(sorted_list)//2]\n",
    "\n",
    "#call function and print the result\n",
    "print(get_median(daily_trading))"
   ]
  },
  {
   "cell_type": "markdown",
   "metadata": {},
   "source": [
    "**A 7.** median trading volume is 76286"
   ]
  }
 ],
 "metadata": {
  "kernelspec": {
   "display_name": "Python 3",
   "language": "python",
   "name": "python3"
  },
  "language_info": {
   "codemirror_mode": {
    "name": "ipython",
    "version": 3
   },
   "file_extension": ".py",
   "mimetype": "text/x-python",
   "name": "python",
   "nbconvert_exporter": "python",
   "pygments_lexer": "ipython3",
   "version": "3.8.8"
  },
  "varInspector": {
   "cols": {
    "lenName": 16,
    "lenType": 16,
    "lenVar": 40
   },
   "kernels_config": {
    "python": {
     "delete_cmd_postfix": "",
     "delete_cmd_prefix": "del ",
     "library": "var_list.py",
     "varRefreshCmd": "print(var_dic_list())"
    },
    "r": {
     "delete_cmd_postfix": ") ",
     "delete_cmd_prefix": "rm(",
     "library": "var_list.r",
     "varRefreshCmd": "cat(var_dic_list()) "
    }
   },
   "types_to_exclude": [
    "module",
    "function",
    "builtin_function_or_method",
    "instance",
    "_Feature"
   ],
   "window_display": false
  }
 },
 "nbformat": 4,
 "nbformat_minor": 2
}
